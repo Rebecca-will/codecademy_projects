{
 "cells": [
  {
   "cell_type": "markdown",
   "metadata": {},
   "source": [
    "# Codecademy [NBA Trends Project](https://www.codecademy.com/projects/practice/nba-trends)\n",
    "\n",
    "*Analyze National Basketball Association (NBA) data to look at associations between teams, win-rates, playoff appearances, and more.*"
   ]
  },
  {
   "cell_type": "markdown",
   "metadata": {},
   "source": [
    "In this project, you'll analyze data from the NBA (National Basketball Association) and explore possible associations. \n",
    "\n",
    "This data was originally sourced from 538's Analysis of the [Complete History Of The NBA](http://fivethirtyeight.com/interactives/the-complete-history-of-every-nba-team-by-elo) and contains the original, unmodified data from [Basketball Reference](http://www.basketball-reference.com/) as well as several additional variables 538 added to perform their own analysis. \n",
    "\n",
    "You can read more about the data and how it's being used by 538 [here](https://github.com/fivethirtyeight/data/tree/master/nba-elo). For this project we've limited the data to just 5 teams and 10 columns (plus one constructed column, `point_diff`, the difference between `pts` and `opp_pts`).\n",
    "\n",
    "You will create several charts and tables in this project, so you'll need to use `plt.clf()` between plots in your code so that the plots don't layer on top of one another.\n"
   ]
  },
  {
   "cell_type": "code",
   "execution_count": 2,
   "metadata": {},
   "outputs": [],
   "source": [
    "import pandas as pd\n",
    "import numpy as np\n",
    "from scipy.stats import pearsonr, chi2_contingency\n",
    "import matplotlib.pyplot as plt\n",
    "import seaborn as sns"
   ]
  },
  {
   "cell_type": "code",
   "execution_count": 3,
   "metadata": {},
   "outputs": [],
   "source": [
    "#to make the output look nicer\n",
    "np.set_printoptions(suppress=True, precision = 2)"
   ]
  },
  {
   "cell_type": "code",
   "execution_count": 4,
   "metadata": {},
   "outputs": [
    {
     "data": {
      "text/html": [
       "<div>\n",
       "<style scoped>\n",
       "    .dataframe tbody tr th:only-of-type {\n",
       "        vertical-align: middle;\n",
       "    }\n",
       "\n",
       "    .dataframe tbody tr th {\n",
       "        vertical-align: top;\n",
       "    }\n",
       "\n",
       "    .dataframe thead th {\n",
       "        text-align: right;\n",
       "    }\n",
       "</style>\n",
       "<table border=\"1\" class=\"dataframe\">\n",
       "  <thead>\n",
       "    <tr style=\"text-align: right;\">\n",
       "      <th></th>\n",
       "      <th>game_id</th>\n",
       "      <th>year_id</th>\n",
       "      <th>fran_id</th>\n",
       "      <th>opp_fran</th>\n",
       "      <th>game_location</th>\n",
       "      <th>is_playoffs</th>\n",
       "      <th>pts</th>\n",
       "      <th>opp_pts</th>\n",
       "      <th>game_result</th>\n",
       "      <th>forecast</th>\n",
       "      <th>point_diff</th>\n",
       "    </tr>\n",
       "  </thead>\n",
       "  <tbody>\n",
       "    <tr>\n",
       "      <th>0</th>\n",
       "      <td>194611010TRH</td>\n",
       "      <td>1947</td>\n",
       "      <td>Knicks</td>\n",
       "      <td>Huskies</td>\n",
       "      <td>A</td>\n",
       "      <td>0</td>\n",
       "      <td>68</td>\n",
       "      <td>66</td>\n",
       "      <td>W</td>\n",
       "      <td>0.359935</td>\n",
       "      <td>2</td>\n",
       "    </tr>\n",
       "    <tr>\n",
       "      <th>1</th>\n",
       "      <td>194611020CHS</td>\n",
       "      <td>1947</td>\n",
       "      <td>Knicks</td>\n",
       "      <td>Stags</td>\n",
       "      <td>A</td>\n",
       "      <td>0</td>\n",
       "      <td>47</td>\n",
       "      <td>63</td>\n",
       "      <td>L</td>\n",
       "      <td>0.368899</td>\n",
       "      <td>-16</td>\n",
       "    </tr>\n",
       "    <tr>\n",
       "      <th>2</th>\n",
       "      <td>194611020PRO</td>\n",
       "      <td>1947</td>\n",
       "      <td>Celtics</td>\n",
       "      <td>Steamrollers</td>\n",
       "      <td>A</td>\n",
       "      <td>0</td>\n",
       "      <td>53</td>\n",
       "      <td>59</td>\n",
       "      <td>L</td>\n",
       "      <td>0.359935</td>\n",
       "      <td>-6</td>\n",
       "    </tr>\n",
       "    <tr>\n",
       "      <th>3</th>\n",
       "      <td>194611050BOS</td>\n",
       "      <td>1947</td>\n",
       "      <td>Celtics</td>\n",
       "      <td>Stags</td>\n",
       "      <td>H</td>\n",
       "      <td>0</td>\n",
       "      <td>55</td>\n",
       "      <td>57</td>\n",
       "      <td>L</td>\n",
       "      <td>0.620204</td>\n",
       "      <td>-2</td>\n",
       "    </tr>\n",
       "    <tr>\n",
       "      <th>4</th>\n",
       "      <td>194611070STB</td>\n",
       "      <td>1947</td>\n",
       "      <td>Knicks</td>\n",
       "      <td>Bombers</td>\n",
       "      <td>A</td>\n",
       "      <td>0</td>\n",
       "      <td>68</td>\n",
       "      <td>63</td>\n",
       "      <td>W</td>\n",
       "      <td>0.339290</td>\n",
       "      <td>5</td>\n",
       "    </tr>\n",
       "  </tbody>\n",
       "</table>\n",
       "</div>"
      ],
      "text/plain": [
       "        game_id  year_id  fran_id      opp_fran game_location  is_playoffs  \\\n",
       "0  194611010TRH     1947   Knicks       Huskies             A            0   \n",
       "1  194611020CHS     1947   Knicks         Stags             A            0   \n",
       "2  194611020PRO     1947  Celtics  Steamrollers             A            0   \n",
       "3  194611050BOS     1947  Celtics         Stags             H            0   \n",
       "4  194611070STB     1947   Knicks       Bombers             A            0   \n",
       "\n",
       "   pts  opp_pts game_result  forecast  point_diff  \n",
       "0   68       66           W  0.359935           2  \n",
       "1   47       63           L  0.368899         -16  \n",
       "2   53       59           L  0.359935          -6  \n",
       "3   55       57           L  0.620204          -2  \n",
       "4   68       63           W  0.339290           5  "
      ]
     },
     "execution_count": 4,
     "metadata": {},
     "output_type": "execute_result"
    }
   ],
   "source": [
    "nba = pd.read_csv('nba_games.csv')\n",
    "nba.head()"
   ]
  },
  {
   "cell_type": "code",
   "execution_count": 5,
   "metadata": {},
   "outputs": [],
   "source": [
    "# Subset Data to 2010 Season, 2014 Season\n",
    "nba_2010 = nba[nba.year_id == 2010]\n",
    "nba_2014 = nba[nba.year_id == 2014]"
   ]
  },
  {
   "cell_type": "markdown",
   "metadata": {},
   "source": [
    "### Task 1\n",
    "The data has been subset for you into two smaller datasets: games from 2010 (named nba_2010) and games from 2014 (named nba_2014). To start, let’s focus on the 2010 data.\n",
    "\n",
    "Suppose you want to compare the knicks to the nets with respect to points earned per game. Using the pts column from the nba_2010 DataFrame, create two series named knicks_pts (fran_id = \"Knicks\") and nets_pts(fran_id = \"Nets\") that represent the points each team has scored in their games.\n"
   ]
  },
  {
   "cell_type": "code",
   "execution_count": 6,
   "metadata": {},
   "outputs": [
    {
     "name": "stdout",
     "output_type": "stream",
     "text": [
      "21719     93\n",
      "21725    100\n",
      "21728    127\n",
      "21734    117\n",
      "21739     89\n",
      "        ... \n",
      "22102    105\n",
      "22110    103\n",
      "22116     98\n",
      "22118    114\n",
      "22126    113\n",
      "Name: pts, Length: 82, dtype: int64\n",
      "21720     93\n",
      "21727     85\n",
      "21730    104\n",
      "21733     68\n",
      "21738     94\n",
      "        ... \n",
      "22103     89\n",
      "22108    127\n",
      "22113    102\n",
      "22117     95\n",
      "22124     86\n",
      "Name: pts, Length: 82, dtype: int64\n"
     ]
    }
   ],
   "source": [
    "knicks_pts = nba_2010.pts[nba_2010.fran_id == \"Knicks\"]\n",
    "print(knicks_pts)\n",
    "\n",
    "nets_pts = nba_2010.pts[nba_2010.fran_id == \"Nets\"]\n",
    "print(nets_pts)"
   ]
  },
  {
   "cell_type": "markdown",
   "metadata": {},
   "source": [
    "### Task 2\n",
    "\n",
    "Calculate the difference between the two teams’ average points scored and save the result as diff_means_2010. Based on this value, do you think fran_id and pts are associated? Why or why not?\n"
   ]
  },
  {
   "cell_type": "code",
   "execution_count": 10,
   "metadata": {},
   "outputs": [
    {
     "name": "stdout",
     "output_type": "stream",
     "text": [
      "9.731707317073173\n"
     ]
    }
   ],
   "source": [
    "diff_means_2010 = knicks_pts.mean() - nets_pts.mean()\n",
    "print(diff_means_2010) #yes as the difference in the mean is large and based on a google search matches are normally very close. Thus we could infer thatknicks are a better team \n"
   ]
  },
  {
   "cell_type": "markdown",
   "metadata": {},
   "source": [
    "### Task 3\n",
    "Rather than comparing means, it’s useful look at the full distribution of values to understand whether a difference in means is meaningful. Create a set of overlapping histograms that can be used to compare the points scored for the Knicks compared to the Nets. Use the series you created in the previous step (1) and the code below to create the plot. Do the distributions appear to be the same?\n"
   ]
  },
  {
   "cell_type": "code",
   "execution_count": 11,
   "metadata": {},
   "outputs": [
    {
     "data": {
      "image/png": "[encoded data removed]",
      "text/plain": [
       "<Figure size 640x480 with 1 Axes>"
      ]
     },
     "metadata": {},
     "output_type": "display_data"
    }
   ],
   "source": [
    "plt.hist(knicks_pts, label = 'knicks', color = '#006BB6', edgecolor = 'orange')\n",
    "\n",
    "plt.hist(nets_pts, alpha = 0.5, label = 'nets', color = 'black', edgecolor = 'white')\n",
    "plt.title('Points between two NBA teams')\n",
    "plt.legend(loc = 'upper right')\n",
    "plt.show()"
   ]
  },
  {
   "cell_type": "markdown",
   "metadata": {},
   "source": [
    "The graphs don't look that similar. The nets are marginally right tailed and tend towards lower points while the knicks do peak at the same point but are definetly left tailed and tend to score higher. "
   ]
  },
  {
   "cell_type": "markdown",
   "metadata": {},
   "source": [
    "### Task 4\n",
    "Now, let’s compare the 2010 games to 2014. Replicate the steps from Tasks 2 and 3 using `nba_2014`. First, calculate the mean difference between the two teams points scored. Save and print the value as `diff_means_2014`. Did the difference in points get larger or smaller in 2014? Then, plot the overlapping histograms. Does the mean difference you calculated make sense?\n"
   ]
  },
  {
   "cell_type": "code",
   "execution_count": 12,
   "metadata": {},
   "outputs": [
    {
     "name": "stdout",
     "output_type": "stream",
     "text": [
      "23469     90\n",
      "23473     81\n",
      "23480    100\n",
      "23486     97\n",
      "23490    101\n",
      "        ... \n",
      "23849     91\n",
      "23863    108\n",
      "23867    100\n",
      "23871    109\n",
      "23875     95\n",
      "Name: pts, Length: 82, dtype: int64\n",
      "23468     94\n",
      "23475    101\n",
      "23482     86\n",
      "23484    104\n",
      "23494    108\n",
      "        ... \n",
      "23900     86\n",
      "23903     82\n",
      "23906    104\n",
      "23909     96\n",
      "23912     94\n",
      "Name: pts, Length: 94, dtype: int64\n",
      "0.44706798131809933\n"
     ]
    },
    {
     "data": {
      "image/png": "[encoded data removed]",
      "text/plain": [
       "<Figure size 640x480 with 1 Axes>"
      ]
     },
     "metadata": {},
     "output_type": "display_data"
    }
   ],
   "source": [
    "#replicating for 2014 \n",
    "knicks_pts_2014 = nba_2014.pts[nba_2014.fran_id == \"Knicks\"]\n",
    "print(knicks_pts_2014)\n",
    "\n",
    "nets_pts_2014 = nba_2014.pts[nba_2014.fran_id == \"Nets\"]\n",
    "print(nets_pts_2014)\n",
    "\n",
    "diff_means_2014 = knicks_pts_2014.mean()- nets_pts_2014.mean() #calculating the mean\n",
    "print(diff_means_2014)\n",
    "\n",
    "plt.clf() #to clear the base plot\n",
    "\n",
    "plt.hist(knicks_pts_2014, label = 'knicks', color = '#006BB6', edgecolor = 'orange')\n",
    "plt.hist(nets_pts_2014, alpha = 0.5, label = 'nets', color = 'black', edgecolor = 'white')\n",
    "plt.legend(loc= 'upper right')\n",
    "plt.title('pts 2014')\n",
    "plt.show()"
   ]
  },
  {
   "cell_type": "markdown",
   "metadata": {},
   "source": [
    "In comparison to the previous graph the knicks look to have a relatively normal distribution in comparison. The nets have improved and they are beginning to score more points and the peak has moved to higher scores. "
   ]
  },
  {
   "cell_type": "markdown",
   "metadata": {},
   "source": [
    "### Task 5\n",
    "For the remainder of this project, we’ll focus on data from 2010. Let’s now include all teams in the dataset and investigate the relationship between franchise and points scored per game.\n",
    "\n",
    "Using nba_2010, generate side-by-side boxplots with points scored (pts) on the y-axis and team (fran_id) on the x-axis. Is there any overlap between the boxes? Does this chart suggest that fran_id and pts are associated? Which pairs of teams, if any, earn different average scores per game?\n"
   ]
  },
  {
   "cell_type": "code",
   "execution_count": 13,
   "metadata": {},
   "outputs": [
    {
     "data": {
      "text/plain": [
       "<matplotlib.lines.Line2D at 0x7f8483cd6eb0>"
      ]
     },
     "execution_count": 13,
     "metadata": {},
     "output_type": "execute_result"
    },
    {
     "data": {
      "image/png": "[encoded data removed]",
      "text/plain": [
       "<Figure size 640x480 with 1 Axes>"
      ]
     },
     "metadata": {},
     "output_type": "display_data"
    }
   ],
   "source": [
    "plt.clf()\n",
    "palette = ['#007A33', '#006BB6', '#FFFFFF', '#FDBB30', '#C4CED4']\n",
    "sns.violinplot(x = nba_2010['pts'], y = nba_2010['fran_id'], palette = palette)\n",
    "plt.axvline(x=100, color='grey', linestyle='--', linewidth=2)\n"
   ]
  },
  {
   "cell_type": "markdown",
   "metadata": {},
   "source": [
    "I choose to plot a voilinplot instead of a bar chart as I feel we can see the distribution better. \n",
    "\n",
    "- The nets average lower than all the teams\n",
    "- The knicks, thunder and spurs all have very similar averages that lie in the middle of the IQR. However the knicks have the broadest spread followed by Thunder, and Spurs as seen in the IQR black bar. We could say that the spurs are most likely to score within their IQR as this is the thickest part of the violin plot but it is also skewed with the tail reaching higher scores. \n",
    "\n",
    "Based on this plot I wouldn't say they are associated as many of the teams have similar medians and the spread of scores are realtively similar bar some slight skewness/outliers. "
   ]
  },
  {
   "cell_type": "markdown",
   "metadata": {},
   "source": [
    "### Task 6\n",
    "We'd like to know if teams tend to win more games at home compared to away.\n",
    "\n",
    "The variable, `game_result`, indicates whether a team won a particular game ('W' stands for “win” and 'L' stands for “loss”). The variable, `game_location`, indicates whether a team was playing at home or away ('H' stands for “home” and 'A' stands for “away”). \n",
    "\n",
    "Data scientists will often calculate a contingency table of frequencies to help them determine if categorical variables are associated. Calculate a table of frequencies that shows the counts of game_result and game_location.\n",
    "\n",
    "Save your result as `location_result_freq` and print your result. Based on this table, do you think the variables are associated?`\n"
   ]
  },
  {
   "cell_type": "code",
   "execution_count": 14,
   "metadata": {},
   "outputs": [
    {
     "name": "stdout",
     "output_type": "stream",
     "text": [
      "game_location    A    H\n",
      "game_result            \n",
      "L              133  105\n",
      "W               92  120\n"
     ]
    }
   ],
   "source": [
    "location_result_freq = pd.crosstab(nba_2010.game_result, nba_2010.game_location)\n",
    "print(location_result_freq)"
   ]
  },
  {
   "cell_type": "markdown",
   "metadata": {},
   "source": [
    "Based on the counts alonw it looks likethe variables are assocaited. Teams are more likely to lose when playing away and more likely to win when playing at home. "
   ]
  },
  {
   "cell_type": "markdown",
   "metadata": {},
   "source": [
    "### Task 7\n",
    "\n",
    "Convert this table of frequencies to a table of proportions and save the result as `location_result_proportions`."
   ]
  },
  {
   "cell_type": "code",
   "execution_count": 15,
   "metadata": {},
   "outputs": [
    {
     "name": "stdout",
     "output_type": "stream",
     "text": [
      "game_location         A         H\n",
      "game_result                      \n",
      "L              0.295556  0.233333\n",
      "W              0.204444  0.266667\n"
     ]
    }
   ],
   "source": [
    "locaion_result_proportions = location_result_freq/len(nba_2010)\n",
    "print(locaion_result_proportions) "
   ]
  },
  {
   "cell_type": "markdown",
   "metadata": {},
   "source": [
    "### Task 8\n",
    "Using the contingency table created above (Task 6), calculate the expected contingency table (if there were no association) and the Chi-Square statistic.\n",
    "\n",
    "Does the actual contingency table look similar to the expected table — or different? Based on this output, do you think there is an association between these variables?\n"
   ]
  },
  {
   "cell_type": "code",
   "execution_count": 16,
   "metadata": {},
   "outputs": [
    {
     "name": "stdout",
     "output_type": "stream",
     "text": [
      "[[119. 119.]\n",
      " [106. 106.]]\n",
      "6.501704455367053\n"
     ]
    }
   ],
   "source": [
    "chi2, pval,dof, expected = chi2_contingency(location_result_freq)\n",
    "print(expected)\n",
    "print(chi2)"
   ]
  },
  {
   "cell_type": "markdown",
   "metadata": {},
   "source": [
    "its a 2x2 cell so 6 > 4 thus we could say there is an association, i.e. a home advantage. "
   ]
  },
  {
   "cell_type": "markdown",
   "metadata": {},
   "source": [
    "### Task 9\n",
    "\n",
    "For each game, 538 has calculated the probability that each team will win the game. We want to know if teams with a higher probability of winning (according to 538) also tend to win games by more points. \n",
    "\n",
    "In the data, 538's prediction is saved as `forecast`. The `point_diff` column gives the margin of victory/defeat for each team (positive values mean that the team won; negative values mean that they lost). \n",
    "\n",
    "Using `nba_2010`, calculate the covariance between `forecast` (538's projected win probability) and `point_diff` (the margin of victory/defeat) in the dataset. Save and print your result. Looking at the matrix, what is the covariance between these two variables?\n"
   ]
  },
  {
   "cell_type": "code",
   "execution_count": 17,
   "metadata": {},
   "outputs": [
    {
     "name": "stdout",
     "output_type": "stream",
     "text": [
      "[[  0.05   1.37]\n",
      " [  1.37 186.56]]\n"
     ]
    }
   ],
   "source": [
    "covariance = np.cov(nba_2010.forecast, nba_2010.point_diff)\n",
    "print(covariance)"
   ]
  },
  {
   "cell_type": "markdown",
   "metadata": {},
   "source": [
    "The covariance between the two variable is 1.37 probability-point_diff. This is a positive score so as the probability of winning increases so does the point difference. \n",
    "The 186 is the covariance of the point_diff which is learge thus teams can win by varying amounts. The 0.05 would indicate that there isn't much difference in the probabilities."
   ]
  },
  {
   "cell_type": "markdown",
   "metadata": {},
   "source": [
    "### Task 10\n",
    "\n",
    "Because 538’s forecast variable is reported as a probability (not a binary), we can calculate the strength of the correlation.\n",
    "\n",
    "Using nba_2010, calculate the correlation between `forecast` and `point_diff`. Call this `point_diff_forecast_corr`. Save and print your result. Does this value suggest an association between the two variables?\n"
   ]
  },
  {
   "cell_type": "code",
   "execution_count": 19,
   "metadata": {},
   "outputs": [
    {
     "name": "stdout",
     "output_type": "stream",
     "text": [
      "0.4402088708468084 correlation\n"
     ]
    }
   ],
   "source": [
    "point_diff_forecast_corr, p = pearsonr(nba_2010.forecast, nba_2010.point_diff)\n",
    "print(point_diff_forecast_corr, 'correlation')"
   ]
  },
  {
   "cell_type": "markdown",
   "metadata": {},
   "source": [
    "Theres a moderate positive correlation between the probability of winning a game and by how much. "
   ]
  },
  {
   "cell_type": "markdown",
   "metadata": {},
   "source": [
    "### Task 11\n",
    "\n",
    "Generate a scatter plot of `forecast` (on the x-axis) and `point_diff` (on the y-axis). Does the correlation value make sense?"
   ]
  },
  {
   "cell_type": "code",
   "execution_count": 20,
   "metadata": {
    "scrolled": true
   },
   "outputs": [
    {
     "data": {
      "text/plain": [
       "Text(0, 0.5, 'point difference')"
      ]
     },
     "execution_count": 20,
     "metadata": {},
     "output_type": "execute_result"
    },
    {
     "data": {
      "image/png": "[encoded data removed]",
      "text/plain": [
       "<Figure size 640x480 with 1 Axes>"
      ]
     },
     "metadata": {},
     "output_type": "display_data"
    }
   ],
   "source": [
    "plt.clf() \n",
    "plt.scatter('forecast', 'point_diff', data = nba_2010)\n",
    "plt.xlabel('Forecasted probability')\n",
    "plt.ylabel('point difference')"
   ]
  },
  {
   "cell_type": "markdown",
   "metadata": {},
   "source": [
    "We can see that the moderate positive realtionship is visible on the scatter plot. "
   ]
  },
  {
   "cell_type": "code",
   "execution_count": 9,
   "metadata": {},
   "outputs": [
    {
     "data": {
      "application/vnd.plotly.v1+json": {
       "config": {
        "plotlyServerURL": "https://plot.ly"
       },
       "data": [
        {
         "mode": "markers",
         "type": "scatter",
         "x": [
          0.27747208,
          0.81461924,
          0.25875455,
          0.47515517,
          0.71676362,
          0.74717635,
          0.4407649,
          0.76877356,
          0.29980439,
          0.25552911,
          0.37832326,
          0.540618,
          0.87626773,
          0.44061989,
          0.82072663,
          0.39618394,
          0.31334633,
          0.53356314,
          0.2628873,
          0.56707096,
          0.7649163,
          0.32595313,
          0.56666195,
          0.44395763,
          0.77939975,
          0.13639319,
          0.2803354,
          0.27053308,
          0.32554013,
          0.26632124,
          0.3023071,
          0.69769287,
          0.30962595,
          0.46150759,
          0.74112922,
          0.47996551,
          0.80288935,
          0.50526315,
          0.54196882,
          0.41102311,
          0.57523459,
          0.77277577,
          0.60677481,
          0.13611144,
          0.57967907,
          0.19630516,
          0.78417832,
          0.21582168,
          0.79728013,
          0.2392379,
          0.48880181,
          0.86654854,
          0.28657603,
          0.18707705,
          0.24274117,
          0.18124813,
          0.66467553,
          0.65080589,
          0.71831769,
          0.64956802,
          0.35043198,
          0.81434947,
          0.13697225,
          0.30611265,
          0.69388735,
          0.70416421,
          0.10467142,
          0.0872949359999999,
          0.25082201,
          0.83991736,
          0.11389673,
          0.38487011,
          0.77186286,
          0.81954443,
          0.10319197,
          0.32372648,
          0.63050556,
          0.35024995,
          0.0707495809999999,
          0.55435014,
          0.25235376,
          0.52270263,
          0.8062517,
          0.55548239,
          0.29047039,
          0.25316799,
          0.7126710999999999,
          0.10840023,
          0.46522933,
          0.53477067,
          0.16295612,
          0.44025692,
          0.60793126,
          0.39206874,
          0.54873449,
          0.71170837,
          0.28829163,
          0.41975209,
          0.70430762,
          0.36992246,
          0.86070484,
          0.22805744,
          0.56117743,
          0.82889581,
          0.73871088,
          0.27319074,
          0.42789996,
          0.30463326,
          0.71777326,
          0.67811853,
          0.11110252,
          0.63994944,
          0.3829616,
          0.1927973,
          0.68150246,
          0.31562179,
          0.06916815,
          0.36519229,
          0.5828656,
          0.3253495999999999,
          0.42982662,
          0.38017637,
          0.90422755,
          0.71545619,
          0.64357924,
          0.21532059,
          0.21063751,
          0.15280145,
          0.81662256,
          0.94035447,
          0.59544957,
          0.84407705,
          0.89457756,
          0.11806929,
          0.65668094,
          0.66449434,
          0.24619937,
          0.6443581,
          0.58645952,
          0.39699042,
          0.53409529,
          0.23993962,
          0.64887655,
          0.78219944,
          0.43693334,
          0.56306666,
          0.75972551,
          0.626508,
          0.37349197,
          0.39094049,
          0.89882034,
          0.5013597,
          0.59230506,
          0.40769497,
          0.51011318,
          0.56677532,
          0.74978137,
          0.18878138,
          0.82073909,
          0.47995168,
          0.1237684,
          0.66495681,
          0.73292452,
          0.52711511,
          0.412368,
          0.44936106,
          0.099187851,
          0.59580564,
          0.70068377,
          0.86709273,
          0.588202,
          0.49623489,
          0.14813483,
          0.6168378000000001,
          0.22642827,
          0.79737848,
          0.083788872,
          0.91621113,
          0.55780137,
          0.76037765,
          0.30444294,
          0.69555706,
          0.52193612,
          0.17079727,
          0.82920271,
          0.51334113,
          0.48665887,
          0.40263456,
          0.84747171,
          0.50396979,
          0.2557282999999999,
          0.47710049,
          0.58794427,
          0.47012097,
          0.47019571,
          0.64556938,
          0.28500837,
          0.69468963,
          0.18197834,
          0.50138694,
          0.72398055,
          0.68881154,
          0.6887002,
          0.10981244,
          0.662449,
          0.68291861,
          0.20416135,
          0.36759603,
          0.32738125,
          0.66998297,
          0.14644015,
          0.0686011909999999,
          0.43813848,
          0.82111835,
          0.73652267,
          0.79635453,
          0.36453721,
          0.66736054,
          0.5984664000000001,
          0.48587331,
          0.36048234,
          0.38518876,
          0.51547277,
          0.46910861,
          0.67824137,
          0.45132208,
          0.50282532,
          0.53250408,
          0.41477573,
          0.82140684,
          0.58305198,
          0.67724639,
          0.51401454,
          0.57376593,
          0.7648766,
          0.41579574,
          0.68616468,
          0.68132168,
          0.098908424,
          0.37295359,
          0.93370241,
          0.066297591,
          0.52525067,
          0.065719664,
          0.24436313,
          0.62926328,
          0.56636119,
          0.62088096,
          0.22781605,
          0.0276794429999999,
          0.73138863,
          0.37160432,
          0.31084862,
          0.50605446,
          0.27017641,
          0.088405788,
          0.22137034,
          0.65074915,
          0.69166058,
          0.64074707,
          0.24048787,
          0.4481585,
          0.21650422,
          0.27242079,
          0.59363592,
          0.42064571,
          0.34399632,
          0.65600371,
          0.36556005,
          0.68254805,
          0.72721189,
          0.32675365,
          0.48668641,
          0.88614076,
          0.11385924,
          0.2575232999999999,
          0.67278028,
          0.36700469,
          0.63299531,
          0.47899044,
          0.46652865,
          0.88181233,
          0.32087886,
          0.93290401,
          0.067095995,
          0.47439626,
          0.48521474,
          0.7218892,
          0.63721704,
          0.05404973,
          0.47663927,
          0.6356889,
          0.88869649,
          0.71077222,
          0.32748866,
          0.096061938,
          0.61353147,
          0.64016032,
          0.14698073,
          0.57478762,
          0.7801224,
          0.20957661,
          0.49720275,
          0.23576671,
          0.76423329,
          0.87035787,
          0.70293999,
          0.2083835,
          0.14751649,
          0.27745587,
          0.3994031,
          0.75815296,
          0.068707943,
          0.77696383,
          0.89422256,
          0.10577744,
          0.80750054,
          0.16112542,
          0.7713213000000001,
          0.91476321,
          0.085236788,
          0.08869797,
          0.12735957,
          0.88804066,
          0.16691756,
          0.55157107,
          0.84927922,
          0.33671302,
          0.45940101,
          0.22369115,
          0.18696636,
          0.81303364,
          0.42071152,
          0.31688875,
          0.21322989,
          0.41437072,
          0.64671189,
          0.87963945,
          0.57619339,
          0.36768717,
          0.41782242,
          0.39233208,
          0.63468993,
          0.488224,
          0.26983556,
          0.59957916,
          0.40042084,
          0.2901063,
          0.31242326,
          0.57955784,
          0.51155901,
          0.72027552,
          0.54485464,
          0.89032036,
          0.54614002,
          0.47674745,
          0.15810454,
          0.43352339,
          0.17425126,
          0.60860705,
          0.39139295,
          0.64944804,
          0.82942057,
          0.17057943,
          0.12216878,
          0.60547554,
          0.60271871,
          0.39728129,
          0.20473284,
          0.1525658999999999,
          0.79890513,
          0.74336272,
          0.38566327,
          0.5469479,
          0.43128622,
          0.41695267,
          0.35903606,
          0.4655813,
          0.31797963,
          0.93082023,
          0.34923261,
          0.41318676,
          0.58681321,
          0.80997676,
          0.32666725,
          0.27030629,
          0.11334223,
          0.64232779,
          0.42700654,
          0.52524626,
          0.87218797,
          0.39993489,
          0.61482775,
          0.096269786,
          0.84234816,
          0.37345314,
          0.15929341,
          0.33061874,
          0.67681468,
          0.39137071,
          0.29460329,
          0.69368297,
          0.36173242,
          0.95003837,
          0.48646748,
          0.66520327,
          0.46083689,
          0.095973849,
          0.80694604,
          0.32914346,
          0.56270552,
          0.43921787,
          0.34855646,
          0.58585149,
          0.33349204,
          0.42068255,
          0.60341102,
          0.35197514,
          0.73319036,
          0.61784726,
          0.37014657,
          0.73980165,
          0.63238227,
          0.48073274,
          0.37026584,
          0.70732236,
          0.61594272,
          0.19805628,
          0.19260752,
          0.32806063,
          0.31349391,
          0.51791906,
          0.57648408,
          0.45381576,
          0.53245091,
          0.23101342,
          0.60729212,
          0.19590074,
          0.21986932,
          0.5016849,
          0.55326313,
          0.26493692,
          0.51006913,
          0.34368968,
          0.32390988,
          0.64203912,
          0.6103695,
          0.62712657,
          0.36136001,
          0.33082026
         ],
         "y": [
          6,
          33,
          -22,
          -2,
          13,
          17,
          -7,
          28,
          -2,
          8,
          -10,
          -14,
          19,
          -19,
          10,
          -9,
          -11,
          6,
          -3,
          31,
          2,
          -28,
          -12,
          -14,
          -7,
          -11,
          -9,
          -3,
          -12,
          -15,
          -10,
          10,
          28,
          -2,
          7,
          -3,
          19,
          4,
          -3,
          -13,
          9,
          -11,
          -14,
          -16,
          -9,
          -1,
          -3,
          3,
          -8,
          13,
          -8,
          14,
          -5,
          7,
          -14,
          -14,
          -7,
          -5,
          19,
          -7,
          7,
          22,
          -16,
          -2,
          2,
          14,
          -14,
          -10,
          10,
          3,
          -10,
          -14,
          14,
          13,
          -3,
          8,
          18,
          -13,
          -19,
          7,
          -12,
          -9,
          8,
          18,
          27,
          -16,
          11,
          -14,
          7,
          -7,
          7,
          6,
          18,
          -18,
          -7,
          9,
          -9,
          9,
          16,
          -3,
          9,
          2,
          -16,
          12,
          2,
          -16,
          8,
          17,
          19,
          26,
          -23,
          25,
          -13,
          -9,
          5,
          -7,
          -10,
          -12,
          12,
          -16,
          -14,
          -9,
          -1,
          4,
          11,
          -23,
          -5,
          -19,
          1,
          18,
          4,
          16,
          9,
          -3,
          7,
          -4,
          4,
          -4,
          -6,
          9,
          15,
          -5,
          7,
          -2,
          -7,
          7,
          -4,
          16,
          -16,
          17,
          18,
          12,
          -9,
          9,
          -18,
          1,
          30,
          4,
          7,
          -6,
          -8,
          11,
          43,
          -5,
          13,
          -22,
          -30,
          6,
          -5,
          20,
          4,
          -8,
          -4,
          -9,
          -9,
          6,
          -12,
          12,
          7,
          -6,
          -18,
          18,
          20,
          -24,
          24,
          -1,
          1,
          1,
          -13,
          -16,
          -1,
          -16,
          -8,
          -4,
          -6,
          18,
          3,
          -9,
          -11,
          7,
          8,
          -6,
          2,
          -24,
          -7,
          3,
          -32,
          -2,
          -10,
          -7,
          -1,
          -33,
          -50,
          6,
          -5,
          27,
          16,
          -10,
          15,
          -2,
          -2,
          -9,
          -2,
          17,
          7,
          -10,
          -1,
          -21,
          -4,
          8,
          -14,
          11,
          -4,
          7,
          5,
          4,
          22,
          2,
          -9,
          -3,
          9,
          -9,
          -7,
          -7,
          -7,
          9,
          17,
          -7,
          -12,
          -7,
          -4,
          12,
          -20,
          -8,
          19,
          9,
          -33,
          13,
          3,
          3,
          -3,
          -6,
          1,
          -17,
          -12,
          20,
          -3,
          3,
          -9,
          -8,
          2,
          -10,
          -16,
          4,
          -4,
          -9,
          -2,
          -8,
          8,
          -20,
          -5,
          17,
          2,
          -8,
          8,
          -11,
          -4,
          20,
          3,
          -31,
          14,
          5,
          6,
          24,
          -29,
          -19,
          24,
          17,
          -10,
          10,
          11,
          -6,
          10,
          20,
          -20,
          3,
          6,
          -2,
          -6,
          1,
          -2,
          -20,
          -9,
          15,
          10,
          -10,
          19,
          -7,
          18,
          2,
          -2,
          34,
          -8,
          30,
          -11,
          8,
          26,
          10,
          12,
          -24,
          -12,
          12,
          -8,
          -26,
          -11,
          7,
          4,
          31,
          26,
          9,
          -10,
          -5,
          -20,
          -4,
          -10,
          -3,
          3,
          -13,
          5,
          14,
          14,
          18,
          -9,
          8,
          8,
          16,
          -36,
          5,
          -23,
          -21,
          21,
          -5,
          -6,
          6,
          -5,
          18,
          -5,
          5,
          -11,
          -28,
          17,
          -5,
          -11,
          12,
          5,
          28,
          4,
          6,
          19,
          8,
          -10,
          3,
          -3,
          9,
          -1,
          -8,
          -19,
          -4,
          -11,
          11,
          -10,
          11,
          5,
          -15,
          -8,
          19,
          -13,
          15,
          -3,
          -13,
          -10,
          11,
          -8,
          22,
          -8,
          -11,
          -7,
          -8,
          9,
          -18,
          9,
          -6,
          -8,
          29,
          -3,
          14,
          5,
          2,
          4,
          21,
          -9,
          3,
          10,
          -22,
          -24,
          10,
          -1,
          -8,
          18,
          -9,
          -8,
          -29,
          -14,
          10,
          -6,
          32,
          9,
          4,
          3,
          23,
          -4,
          -21,
          12,
          -13,
          9,
          -7,
          7,
          6,
          -22,
          -4
         ]
        }
       ],
       "layout": {
        "template": {
         "data": {
          "bar": [
           {
            "error_x": {
             "color": "#2a3f5f"
            },
            "error_y": {
             "color": "#2a3f5f"
            },
            "marker": {
             "line": {
              "color": "#E5ECF6",
              "width": 0.5
             },
             "pattern": {
              "fillmode": "overlay",
              "size": 10,
              "solidity": 0.2
             }
            },
            "type": "bar"
           }
          ],
          "barpolar": [
           {
            "marker": {
             "line": {
              "color": "#E5ECF6",
              "width": 0.5
             },
             "pattern": {
              "fillmode": "overlay",
              "size": 10,
              "solidity": 0.2
             }
            },
            "type": "barpolar"
           }
          ],
          "carpet": [
           {
            "aaxis": {
             "endlinecolor": "#2a3f5f",
             "gridcolor": "white",
             "linecolor": "white",
             "minorgridcolor": "white",
             "startlinecolor": "#2a3f5f"
            },
            "baxis": {
             "endlinecolor": "#2a3f5f",
             "gridcolor": "white",
             "linecolor": "white",
             "minorgridcolor": "white",
             "startlinecolor": "#2a3f5f"
            },
            "type": "carpet"
           }
          ],
          "choropleth": [
           {
            "colorbar": {
             "outlinewidth": 0,
             "ticks": ""
            },
            "type": "choropleth"
           }
          ],
          "contour": [
           {
            "colorbar": {
             "outlinewidth": 0,
             "ticks": ""
            },
            "colorscale": [
             [
              0,
              "#0d0887"
             ],
             [
              0.1111111111111111,
              "#46039f"
             ],
             [
              0.2222222222222222,
              "#7201a8"
             ],
             [
              0.3333333333333333,
              "#9c179e"
             ],
             [
              0.4444444444444444,
              "#bd3786"
             ],
             [
              0.5555555555555556,
              "#d8576b"
             ],
             [
              0.6666666666666666,
              "#ed7953"
             ],
             [
              0.7777777777777778,
              "#fb9f3a"
             ],
             [
              0.8888888888888888,
              "#fdca26"
             ],
             [
              1,
              "#f0f921"
             ]
            ],
            "type": "contour"
           }
          ],
          "contourcarpet": [
           {
            "colorbar": {
             "outlinewidth": 0,
             "ticks": ""
            },
            "type": "contourcarpet"
           }
          ],
          "heatmap": [
           {
            "colorbar": {
             "outlinewidth": 0,
             "ticks": ""
            },
            "colorscale": [
             [
              0,
              "#0d0887"
             ],
             [
              0.1111111111111111,
              "#46039f"
             ],
             [
              0.2222222222222222,
              "#7201a8"
             ],
             [
              0.3333333333333333,
              "#9c179e"
             ],
             [
              0.4444444444444444,
              "#bd3786"
             ],
             [
              0.5555555555555556,
              "#d8576b"
             ],
             [
              0.6666666666666666,
              "#ed7953"
             ],
             [
              0.7777777777777778,
              "#fb9f3a"
             ],
             [
              0.8888888888888888,
              "#fdca26"
             ],
             [
              1,
              "#f0f921"
             ]
            ],
            "type": "heatmap"
           }
          ],
          "heatmapgl": [
           {
            "colorbar": {
             "outlinewidth": 0,
             "ticks": ""
            },
            "colorscale": [
             [
              0,
              "#0d0887"
             ],
             [
              0.1111111111111111,
              "#46039f"
             ],
             [
              0.2222222222222222,
              "#7201a8"
             ],
             [
              0.3333333333333333,
              "#9c179e"
             ],
             [
              0.4444444444444444,
              "#bd3786"
             ],
             [
              0.5555555555555556,
              "#d8576b"
             ],
             [
              0.6666666666666666,
              "#ed7953"
             ],
             [
              0.7777777777777778,
              "#fb9f3a"
             ],
             [
              0.8888888888888888,
              "#fdca26"
             ],
             [
              1,
              "#f0f921"
             ]
            ],
            "type": "heatmapgl"
           }
          ],
          "histogram": [
           {
            "marker": {
             "pattern": {
              "fillmode": "overlay",
              "size": 10,
              "solidity": 0.2
             }
            },
            "type": "histogram"
           }
          ],
          "histogram2d": [
           {
            "colorbar": {
             "outlinewidth": 0,
             "ticks": ""
            },
            "colorscale": [
             [
              0,
              "#0d0887"
             ],
             [
              0.1111111111111111,
              "#46039f"
             ],
             [
              0.2222222222222222,
              "#7201a8"
             ],
             [
              0.3333333333333333,
              "#9c179e"
             ],
             [
              0.4444444444444444,
              "#bd3786"
             ],
             [
              0.5555555555555556,
              "#d8576b"
             ],
             [
              0.6666666666666666,
              "#ed7953"
             ],
             [
              0.7777777777777778,
              "#fb9f3a"
             ],
             [
              0.8888888888888888,
              "#fdca26"
             ],
             [
              1,
              "#f0f921"
             ]
            ],
            "type": "histogram2d"
           }
          ],
          "histogram2dcontour": [
           {
            "colorbar": {
             "outlinewidth": 0,
             "ticks": ""
            },
            "colorscale": [
             [
              0,
              "#0d0887"
             ],
             [
              0.1111111111111111,
              "#46039f"
             ],
             [
              0.2222222222222222,
              "#7201a8"
             ],
             [
              0.3333333333333333,
              "#9c179e"
             ],
             [
              0.4444444444444444,
              "#bd3786"
             ],
             [
              0.5555555555555556,
              "#d8576b"
             ],
             [
              0.6666666666666666,
              "#ed7953"
             ],
             [
              0.7777777777777778,
              "#fb9f3a"
             ],
             [
              0.8888888888888888,
              "#fdca26"
             ],
             [
              1,
              "#f0f921"
             ]
            ],
            "type": "histogram2dcontour"
           }
          ],
          "mesh3d": [
           {
            "colorbar": {
             "outlinewidth": 0,
             "ticks": ""
            },
            "type": "mesh3d"
           }
          ],
          "parcoords": [
           {
            "line": {
             "colorbar": {
              "outlinewidth": 0,
              "ticks": ""
             }
            },
            "type": "parcoords"
           }
          ],
          "pie": [
           {
            "automargin": true,
            "type": "pie"
           }
          ],
          "scatter": [
           {
            "fillpattern": {
             "fillmode": "overlay",
             "size": 10,
             "solidity": 0.2
            },
            "type": "scatter"
           }
          ],
          "scatter3d": [
           {
            "line": {
             "colorbar": {
              "outlinewidth": 0,
              "ticks": ""
             }
            },
            "marker": {
             "colorbar": {
              "outlinewidth": 0,
              "ticks": ""
             }
            },
            "type": "scatter3d"
           }
          ],
          "scattercarpet": [
           {
            "marker": {
             "colorbar": {
              "outlinewidth": 0,
              "ticks": ""
             }
            },
            "type": "scattercarpet"
           }
          ],
          "scattergeo": [
           {
            "marker": {
             "colorbar": {
              "outlinewidth": 0,
              "ticks": ""
             }
            },
            "type": "scattergeo"
           }
          ],
          "scattergl": [
           {
            "marker": {
             "colorbar": {
              "outlinewidth": 0,
              "ticks": ""
             }
            },
            "type": "scattergl"
           }
          ],
          "scattermapbox": [
           {
            "marker": {
             "colorbar": {
              "outlinewidth": 0,
              "ticks": ""
             }
            },
            "type": "scattermapbox"
           }
          ],
          "scatterpolar": [
           {
            "marker": {
             "colorbar": {
              "outlinewidth": 0,
              "ticks": ""
             }
            },
            "type": "scatterpolar"
           }
          ],
          "scatterpolargl": [
           {
            "marker": {
             "colorbar": {
              "outlinewidth": 0,
              "ticks": ""
             }
            },
            "type": "scatterpolargl"
           }
          ],
          "scatterternary": [
           {
            "marker": {
             "colorbar": {
              "outlinewidth": 0,
              "ticks": ""
             }
            },
            "type": "scatterternary"
           }
          ],
          "surface": [
           {
            "colorbar": {
             "outlinewidth": 0,
             "ticks": ""
            },
            "colorscale": [
             [
              0,
              "#0d0887"
             ],
             [
              0.1111111111111111,
              "#46039f"
             ],
             [
              0.2222222222222222,
              "#7201a8"
             ],
             [
              0.3333333333333333,
              "#9c179e"
             ],
             [
              0.4444444444444444,
              "#bd3786"
             ],
             [
              0.5555555555555556,
              "#d8576b"
             ],
             [
              0.6666666666666666,
              "#ed7953"
             ],
             [
              0.7777777777777778,
              "#fb9f3a"
             ],
             [
              0.8888888888888888,
              "#fdca26"
             ],
             [
              1,
              "#f0f921"
             ]
            ],
            "type": "surface"
           }
          ],
          "table": [
           {
            "cells": {
             "fill": {
              "color": "#EBF0F8"
             },
             "line": {
              "color": "white"
             }
            },
            "header": {
             "fill": {
              "color": "#C8D4E3"
             },
             "line": {
              "color": "white"
             }
            },
            "type": "table"
           }
          ]
         },
         "layout": {
          "annotationdefaults": {
           "arrowcolor": "#2a3f5f",
           "arrowhead": 0,
           "arrowwidth": 1
          },
          "autotypenumbers": "strict",
          "coloraxis": {
           "colorbar": {
            "outlinewidth": 0,
            "ticks": ""
           }
          },
          "colorscale": {
           "diverging": [
            [
             0,
             "#8e0152"
            ],
            [
             0.1,
             "#c51b7d"
            ],
            [
             0.2,
             "#de77ae"
            ],
            [
             0.3,
             "#f1b6da"
            ],
            [
             0.4,
             "#fde0ef"
            ],
            [
             0.5,
             "#f7f7f7"
            ],
            [
             0.6,
             "#e6f5d0"
            ],
            [
             0.7,
             "#b8e186"
            ],
            [
             0.8,
             "#7fbc41"
            ],
            [
             0.9,
             "#4d9221"
            ],
            [
             1,
             "#276419"
            ]
           ],
           "sequential": [
            [
             0,
             "#0d0887"
            ],
            [
             0.1111111111111111,
             "#46039f"
            ],
            [
             0.2222222222222222,
             "#7201a8"
            ],
            [
             0.3333333333333333,
             "#9c179e"
            ],
            [
             0.4444444444444444,
             "#bd3786"
            ],
            [
             0.5555555555555556,
             "#d8576b"
            ],
            [
             0.6666666666666666,
             "#ed7953"
            ],
            [
             0.7777777777777778,
             "#fb9f3a"
            ],
            [
             0.8888888888888888,
             "#fdca26"
            ],
            [
             1,
             "#f0f921"
            ]
           ],
           "sequentialminus": [
            [
             0,
             "#0d0887"
            ],
            [
             0.1111111111111111,
             "#46039f"
            ],
            [
             0.2222222222222222,
             "#7201a8"
            ],
            [
             0.3333333333333333,
             "#9c179e"
            ],
            [
             0.4444444444444444,
             "#bd3786"
            ],
            [
             0.5555555555555556,
             "#d8576b"
            ],
            [
             0.6666666666666666,
             "#ed7953"
            ],
            [
             0.7777777777777778,
             "#fb9f3a"
            ],
            [
             0.8888888888888888,
             "#fdca26"
            ],
            [
             1,
             "#f0f921"
            ]
           ]
          },
          "colorway": [
           "#636efa",
           "#EF553B",
           "#00cc96",
           "#ab63fa",
           "#FFA15A",
           "#19d3f3",
           "#FF6692",
           "#B6E880",
           "#FF97FF",
           "#FECB52"
          ],
          "font": {
           "color": "#2a3f5f"
          },
          "geo": {
           "bgcolor": "white",
           "lakecolor": "white",
           "landcolor": "#E5ECF6",
           "showlakes": true,
           "showland": true,
           "subunitcolor": "white"
          },
          "hoverlabel": {
           "align": "left"
          },
          "hovermode": "closest",
          "mapbox": {
           "style": "light"
          },
          "paper_bgcolor": "white",
          "plot_bgcolor": "#E5ECF6",
          "polar": {
           "angularaxis": {
            "gridcolor": "white",
            "linecolor": "white",
            "ticks": ""
           },
           "bgcolor": "#E5ECF6",
           "radialaxis": {
            "gridcolor": "white",
            "linecolor": "white",
            "ticks": ""
           }
          },
          "scene": {
           "xaxis": {
            "backgroundcolor": "#E5ECF6",
            "gridcolor": "white",
            "gridwidth": 2,
            "linecolor": "white",
            "showbackground": true,
            "ticks": "",
            "zerolinecolor": "white"
           },
           "yaxis": {
            "backgroundcolor": "#E5ECF6",
            "gridcolor": "white",
            "gridwidth": 2,
            "linecolor": "white",
            "showbackground": true,
            "ticks": "",
            "zerolinecolor": "white"
           },
           "zaxis": {
            "backgroundcolor": "#E5ECF6",
            "gridcolor": "white",
            "gridwidth": 2,
            "linecolor": "white",
            "showbackground": true,
            "ticks": "",
            "zerolinecolor": "white"
           }
          },
          "shapedefaults": {
           "line": {
            "color": "#2a3f5f"
           }
          },
          "ternary": {
           "aaxis": {
            "gridcolor": "white",
            "linecolor": "white",
            "ticks": ""
           },
           "baxis": {
            "gridcolor": "white",
            "linecolor": "white",
            "ticks": ""
           },
           "bgcolor": "#E5ECF6",
           "caxis": {
            "gridcolor": "white",
            "linecolor": "white",
            "ticks": ""
           }
          },
          "title": {
           "x": 0.05
          },
          "xaxis": {
           "automargin": true,
           "gridcolor": "white",
           "linecolor": "white",
           "ticks": "",
           "title": {
            "standoff": 15
           },
           "zerolinecolor": "white",
           "zerolinewidth": 2
          },
          "yaxis": {
           "automargin": true,
           "gridcolor": "white",
           "linecolor": "white",
           "ticks": "",
           "title": {
            "standoff": 15
           },
           "zerolinecolor": "white",
           "zerolinewidth": 2
          }
         }
        },
        "title": {
         "text": "scatter plot of forecast vs point diff"
        },
        "xaxis": {
         "title": {
          "text": "forecast"
         }
        },
        "yaxis": {
         "title": {
          "text": "point diff"
         }
        }
       }
      },
      "text/html": [
       "<div>                            <div id=\"d034e105-f20c-4325-9429-17712de19f87\" class=\"plotly-graph-div\" style=\"height:525px; width:100%;\"></div>            <script type=\"text/javascript\">                require([\"plotly\"], function(Plotly) {                    window.PLOTLYENV=window.PLOTLYENV || {};                                    if (document.getElementById(\"d034e105-f20c-4325-9429-17712de19f87\")) {                    Plotly.newPlot(                        \"d034e105-f20c-4325-9429-17712de19f87\",                        [{\"mode\":\"markers\",\"x\":[0.27747208,0.81461924,0.25875455,0.47515517,0.71676362,0.74717635,0.4407649,0.76877356,0.29980439,0.25552911,0.37832326,0.540618,0.87626773,0.44061989,0.82072663,0.39618394,0.31334633,0.53356314,0.2628873,0.56707096,0.7649163,0.32595313,0.56666195,0.44395763,0.77939975,0.13639319,0.2803354,0.27053308,0.32554013,0.26632124,0.3023071,0.69769287,0.30962595,0.46150759,0.74112922,0.47996551,0.80288935,0.50526315,0.54196882,0.41102311,0.57523459,0.77277577,0.60677481,0.13611144,0.57967907,0.19630516,0.78417832,0.21582168,0.79728013,0.2392379,0.48880181,0.86654854,0.28657603,0.18707705,0.24274117,0.18124813,0.66467553,0.65080589,0.71831769,0.64956802,0.35043198,0.81434947,0.13697225,0.30611265,0.69388735,0.70416421,0.10467142,0.0872949359999999,0.25082201,0.83991736,0.11389673,0.38487011,0.77186286,0.81954443,0.10319197,0.32372648,0.63050556,0.35024995,0.0707495809999999,0.55435014,0.25235376,0.52270263,0.8062517,0.55548239,0.29047039,0.25316799,0.7126710999999999,0.10840023,0.46522933,0.53477067,0.16295612,0.44025692,0.60793126,0.39206874,0.54873449,0.71170837,0.28829163,0.41975209,0.70430762,0.36992246,0.86070484,0.22805744,0.56117743,0.82889581,0.73871088,0.27319074,0.42789996,0.30463326,0.71777326,0.67811853,0.11110252,0.63994944,0.3829616,0.1927973,0.68150246,0.31562179,0.06916815,0.36519229,0.5828656,0.3253495999999999,0.42982662,0.38017637,0.90422755,0.71545619,0.64357924,0.21532059,0.21063751,0.15280145,0.81662256,0.94035447,0.59544957,0.84407705,0.89457756,0.11806929,0.65668094,0.66449434,0.24619937,0.6443581,0.58645952,0.39699042,0.53409529,0.23993962,0.64887655,0.78219944,0.43693334,0.56306666,0.75972551,0.626508,0.37349197,0.39094049,0.89882034,0.5013597,0.59230506,0.40769497,0.51011318,0.56677532,0.74978137,0.18878138,0.82073909,0.47995168,0.1237684,0.66495681,0.73292452,0.52711511,0.412368,0.44936106,0.099187851,0.59580564,0.70068377,0.86709273,0.588202,0.49623489,0.14813483,0.6168378000000001,0.22642827,0.79737848,0.083788872,0.91621113,0.55780137,0.76037765,0.30444294,0.69555706,0.52193612,0.17079727,0.82920271,0.51334113,0.48665887,0.40263456,0.84747171,0.50396979,0.2557282999999999,0.47710049,0.58794427,0.47012097,0.47019571,0.64556938,0.28500837,0.69468963,0.18197834,0.50138694,0.72398055,0.68881154,0.6887002,0.10981244,0.662449,0.68291861,0.20416135,0.36759603,0.32738125,0.66998297,0.14644015,0.0686011909999999,0.43813848,0.82111835,0.73652267,0.79635453,0.36453721,0.66736054,0.5984664000000001,0.48587331,0.36048234,0.38518876,0.51547277,0.46910861,0.67824137,0.45132208,0.50282532,0.53250408,0.41477573,0.82140684,0.58305198,0.67724639,0.51401454,0.57376593,0.7648766,0.41579574,0.68616468,0.68132168,0.098908424,0.37295359,0.93370241,0.066297591,0.52525067,0.065719664,0.24436313,0.62926328,0.56636119,0.62088096,0.22781605,0.0276794429999999,0.73138863,0.37160432,0.31084862,0.50605446,0.27017641,0.088405788,0.22137034,0.65074915,0.69166058,0.64074707,0.24048787,0.4481585,0.21650422,0.27242079,0.59363592,0.42064571,0.34399632,0.65600371,0.36556005,0.68254805,0.72721189,0.32675365,0.48668641,0.88614076,0.11385924,0.2575232999999999,0.67278028,0.36700469,0.63299531,0.47899044,0.46652865,0.88181233,0.32087886,0.93290401,0.067095995,0.47439626,0.48521474,0.7218892,0.63721704,0.05404973,0.47663927,0.6356889,0.88869649,0.71077222,0.32748866,0.096061938,0.61353147,0.64016032,0.14698073,0.57478762,0.7801224,0.20957661,0.49720275,0.23576671,0.76423329,0.87035787,0.70293999,0.2083835,0.14751649,0.27745587,0.3994031,0.75815296,0.068707943,0.77696383,0.89422256,0.10577744,0.80750054,0.16112542,0.7713213000000001,0.91476321,0.085236788,0.08869797,0.12735957,0.88804066,0.16691756,0.55157107,0.84927922,0.33671302,0.45940101,0.22369115,0.18696636,0.81303364,0.42071152,0.31688875,0.21322989,0.41437072,0.64671189,0.87963945,0.57619339,0.36768717,0.41782242,0.39233208,0.63468993,0.488224,0.26983556,0.59957916,0.40042084,0.2901063,0.31242326,0.57955784,0.51155901,0.72027552,0.54485464,0.89032036,0.54614002,0.47674745,0.15810454,0.43352339,0.17425126,0.60860705,0.39139295,0.64944804,0.82942057,0.17057943,0.12216878,0.60547554,0.60271871,0.39728129,0.20473284,0.1525658999999999,0.79890513,0.74336272,0.38566327,0.5469479,0.43128622,0.41695267,0.35903606,0.4655813,0.31797963,0.93082023,0.34923261,0.41318676,0.58681321,0.80997676,0.32666725,0.27030629,0.11334223,0.64232779,0.42700654,0.52524626,0.87218797,0.39993489,0.61482775,0.096269786,0.84234816,0.37345314,0.15929341,0.33061874,0.67681468,0.39137071,0.29460329,0.69368297,0.36173242,0.95003837,0.48646748,0.66520327,0.46083689,0.095973849,0.80694604,0.32914346,0.56270552,0.43921787,0.34855646,0.58585149,0.33349204,0.42068255,0.60341102,0.35197514,0.73319036,0.61784726,0.37014657,0.73980165,0.63238227,0.48073274,0.37026584,0.70732236,0.61594272,0.19805628,0.19260752,0.32806063,0.31349391,0.51791906,0.57648408,0.45381576,0.53245091,0.23101342,0.60729212,0.19590074,0.21986932,0.5016849,0.55326313,0.26493692,0.51006913,0.34368968,0.32390988,0.64203912,0.6103695,0.62712657,0.36136001,0.33082026],\"y\":[6,33,-22,-2,13,17,-7,28,-2,8,-10,-14,19,-19,10,-9,-11,6,-3,31,2,-28,-12,-14,-7,-11,-9,-3,-12,-15,-10,10,28,-2,7,-3,19,4,-3,-13,9,-11,-14,-16,-9,-1,-3,3,-8,13,-8,14,-5,7,-14,-14,-7,-5,19,-7,7,22,-16,-2,2,14,-14,-10,10,3,-10,-14,14,13,-3,8,18,-13,-19,7,-12,-9,8,18,27,-16,11,-14,7,-7,7,6,18,-18,-7,9,-9,9,16,-3,9,2,-16,12,2,-16,8,17,19,26,-23,25,-13,-9,5,-7,-10,-12,12,-16,-14,-9,-1,4,11,-23,-5,-19,1,18,4,16,9,-3,7,-4,4,-4,-6,9,15,-5,7,-2,-7,7,-4,16,-16,17,18,12,-9,9,-18,1,30,4,7,-6,-8,11,43,-5,13,-22,-30,6,-5,20,4,-8,-4,-9,-9,6,-12,12,7,-6,-18,18,20,-24,24,-1,1,1,-13,-16,-1,-16,-8,-4,-6,18,3,-9,-11,7,8,-6,2,-24,-7,3,-32,-2,-10,-7,-1,-33,-50,6,-5,27,16,-10,15,-2,-2,-9,-2,17,7,-10,-1,-21,-4,8,-14,11,-4,7,5,4,22,2,-9,-3,9,-9,-7,-7,-7,9,17,-7,-12,-7,-4,12,-20,-8,19,9,-33,13,3,3,-3,-6,1,-17,-12,20,-3,3,-9,-8,2,-10,-16,4,-4,-9,-2,-8,8,-20,-5,17,2,-8,8,-11,-4,20,3,-31,14,5,6,24,-29,-19,24,17,-10,10,11,-6,10,20,-20,3,6,-2,-6,1,-2,-20,-9,15,10,-10,19,-7,18,2,-2,34,-8,30,-11,8,26,10,12,-24,-12,12,-8,-26,-11,7,4,31,26,9,-10,-5,-20,-4,-10,-3,3,-13,5,14,14,18,-9,8,8,16,-36,5,-23,-21,21,-5,-6,6,-5,18,-5,5,-11,-28,17,-5,-11,12,5,28,4,6,19,8,-10,3,-3,9,-1,-8,-19,-4,-11,11,-10,11,5,-15,-8,19,-13,15,-3,-13,-10,11,-8,22,-8,-11,-7,-8,9,-18,9,-6,-8,29,-3,14,5,2,4,21,-9,3,10,-22,-24,10,-1,-8,18,-9,-8,-29,-14,10,-6,32,9,4,3,23,-4,-21,12,-13,9,-7,7,6,-22,-4],\"type\":\"scatter\"}],                        {\"template\":{\"data\":{\"histogram2dcontour\":[{\"type\":\"histogram2dcontour\",\"colorbar\":{\"outlinewidth\":0,\"ticks\":\"\"},\"colorscale\":[[0.0,\"#0d0887\"],[0.1111111111111111,\"#46039f\"],[0.2222222222222222,\"#7201a8\"],[0.3333333333333333,\"#9c179e\"],[0.4444444444444444,\"#bd3786\"],[0.5555555555555556,\"#d8576b\"],[0.6666666666666666,\"#ed7953\"],[0.7777777777777778,\"#fb9f3a\"],[0.8888888888888888,\"#fdca26\"],[1.0,\"#f0f921\"]]}],\"choropleth\":[{\"type\":\"choropleth\",\"colorbar\":{\"outlinewidth\":0,\"ticks\":\"\"}}],\"histogram2d\":[{\"type\":\"histogram2d\",\"colorbar\":{\"outlinewidth\":0,\"ticks\":\"\"},\"colorscale\":[[0.0,\"#0d0887\"],[0.1111111111111111,\"#46039f\"],[0.2222222222222222,\"#7201a8\"],[0.3333333333333333,\"#9c179e\"],[0.4444444444444444,\"#bd3786\"],[0.5555555555555556,\"#d8576b\"],[0.6666666666666666,\"#ed7953\"],[0.7777777777777778,\"#fb9f3a\"],[0.8888888888888888,\"#fdca26\"],[1.0,\"#f0f921\"]]}],\"heatmap\":[{\"type\":\"heatmap\",\"colorbar\":{\"outlinewidth\":0,\"ticks\":\"\"},\"colorscale\":[[0.0,\"#0d0887\"],[0.1111111111111111,\"#46039f\"],[0.2222222222222222,\"#7201a8\"],[0.3333333333333333,\"#9c179e\"],[0.4444444444444444,\"#bd3786\"],[0.5555555555555556,\"#d8576b\"],[0.6666666666666666,\"#ed7953\"],[0.7777777777777778,\"#fb9f3a\"],[0.8888888888888888,\"#fdca26\"],[1.0,\"#f0f921\"]]}],\"heatmapgl\":[{\"type\":\"heatmapgl\",\"colorbar\":{\"outlinewidth\":0,\"ticks\":\"\"},\"colorscale\":[[0.0,\"#0d0887\"],[0.1111111111111111,\"#46039f\"],[0.2222222222222222,\"#7201a8\"],[0.3333333333333333,\"#9c179e\"],[0.4444444444444444,\"#bd3786\"],[0.5555555555555556,\"#d8576b\"],[0.6666666666666666,\"#ed7953\"],[0.7777777777777778,\"#fb9f3a\"],[0.8888888888888888,\"#fdca26\"],[1.0,\"#f0f921\"]]}],\"contourcarpet\":[{\"type\":\"contourcarpet\",\"colorbar\":{\"outlinewidth\":0,\"ticks\":\"\"}}],\"contour\":[{\"type\":\"contour\",\"colorbar\":{\"outlinewidth\":0,\"ticks\":\"\"},\"colorscale\":[[0.0,\"#0d0887\"],[0.1111111111111111,\"#46039f\"],[0.2222222222222222,\"#7201a8\"],[0.3333333333333333,\"#9c179e\"],[0.4444444444444444,\"#bd3786\"],[0.5555555555555556,\"#d8576b\"],[0.6666666666666666,\"#ed7953\"],[0.7777777777777778,\"#fb9f3a\"],[0.8888888888888888,\"#fdca26\"],[1.0,\"#f0f921\"]]}],\"surface\":[{\"type\":\"surface\",\"colorbar\":{\"outlinewidth\":0,\"ticks\":\"\"},\"colorscale\":[[0.0,\"#0d0887\"],[0.1111111111111111,\"#46039f\"],[0.2222222222222222,\"#7201a8\"],[0.3333333333333333,\"#9c179e\"],[0.4444444444444444,\"#bd3786\"],[0.5555555555555556,\"#d8576b\"],[0.6666666666666666,\"#ed7953\"],[0.7777777777777778,\"#fb9f3a\"],[0.8888888888888888,\"#fdca26\"],[1.0,\"#f0f921\"]]}],\"mesh3d\":[{\"type\":\"mesh3d\",\"colorbar\":{\"outlinewidth\":0,\"ticks\":\"\"}}],\"scatter\":[{\"fillpattern\":{\"fillmode\":\"overlay\",\"size\":10,\"solidity\":0.2},\"type\":\"scatter\"}],\"parcoords\":[{\"type\":\"parcoords\",\"line\":{\"colorbar\":{\"outlinewidth\":0,\"ticks\":\"\"}}}],\"scatterpolargl\":[{\"type\":\"scatterpolargl\",\"marker\":{\"colorbar\":{\"outlinewidth\":0,\"ticks\":\"\"}}}],\"bar\":[{\"error_x\":{\"color\":\"#2a3f5f\"},\"error_y\":{\"color\":\"#2a3f5f\"},\"marker\":{\"line\":{\"color\":\"#E5ECF6\",\"width\":0.5},\"pattern\":{\"fillmode\":\"overlay\",\"size\":10,\"solidity\":0.2}},\"type\":\"bar\"}],\"scattergeo\":[{\"type\":\"scattergeo\",\"marker\":{\"colorbar\":{\"outlinewidth\":0,\"ticks\":\"\"}}}],\"scatterpolar\":[{\"type\":\"scatterpolar\",\"marker\":{\"colorbar\":{\"outlinewidth\":0,\"ticks\":\"\"}}}],\"histogram\":[{\"marker\":{\"pattern\":{\"fillmode\":\"overlay\",\"size\":10,\"solidity\":0.2}},\"type\":\"histogram\"}],\"scattergl\":[{\"type\":\"scattergl\",\"marker\":{\"colorbar\":{\"outlinewidth\":0,\"ticks\":\"\"}}}],\"scatter3d\":[{\"type\":\"scatter3d\",\"line\":{\"colorbar\":{\"outlinewidth\":0,\"ticks\":\"\"}},\"marker\":{\"colorbar\":{\"outlinewidth\":0,\"ticks\":\"\"}}}],\"scattermapbox\":[{\"type\":\"scattermapbox\",\"marker\":{\"colorbar\":{\"outlinewidth\":0,\"ticks\":\"\"}}}],\"scatterternary\":[{\"type\":\"scatterternary\",\"marker\":{\"colorbar\":{\"outlinewidth\":0,\"ticks\":\"\"}}}],\"scattercarpet\":[{\"type\":\"scattercarpet\",\"marker\":{\"colorbar\":{\"outlinewidth\":0,\"ticks\":\"\"}}}],\"carpet\":[{\"aaxis\":{\"endlinecolor\":\"#2a3f5f\",\"gridcolor\":\"white\",\"linecolor\":\"white\",\"minorgridcolor\":\"white\",\"startlinecolor\":\"#2a3f5f\"},\"baxis\":{\"endlinecolor\":\"#2a3f5f\",\"gridcolor\":\"white\",\"linecolor\":\"white\",\"minorgridcolor\":\"white\",\"startlinecolor\":\"#2a3f5f\"},\"type\":\"carpet\"}],\"table\":[{\"cells\":{\"fill\":{\"color\":\"#EBF0F8\"},\"line\":{\"color\":\"white\"}},\"header\":{\"fill\":{\"color\":\"#C8D4E3\"},\"line\":{\"color\":\"white\"}},\"type\":\"table\"}],\"barpolar\":[{\"marker\":{\"line\":{\"color\":\"#E5ECF6\",\"width\":0.5},\"pattern\":{\"fillmode\":\"overlay\",\"size\":10,\"solidity\":0.2}},\"type\":\"barpolar\"}],\"pie\":[{\"automargin\":true,\"type\":\"pie\"}]},\"layout\":{\"autotypenumbers\":\"strict\",\"colorway\":[\"#636efa\",\"#EF553B\",\"#00cc96\",\"#ab63fa\",\"#FFA15A\",\"#19d3f3\",\"#FF6692\",\"#B6E880\",\"#FF97FF\",\"#FECB52\"],\"font\":{\"color\":\"#2a3f5f\"},\"hovermode\":\"closest\",\"hoverlabel\":{\"align\":\"left\"},\"paper_bgcolor\":\"white\",\"plot_bgcolor\":\"#E5ECF6\",\"polar\":{\"bgcolor\":\"#E5ECF6\",\"angularaxis\":{\"gridcolor\":\"white\",\"linecolor\":\"white\",\"ticks\":\"\"},\"radialaxis\":{\"gridcolor\":\"white\",\"linecolor\":\"white\",\"ticks\":\"\"}},\"ternary\":{\"bgcolor\":\"#E5ECF6\",\"aaxis\":{\"gridcolor\":\"white\",\"linecolor\":\"white\",\"ticks\":\"\"},\"baxis\":{\"gridcolor\":\"white\",\"linecolor\":\"white\",\"ticks\":\"\"},\"caxis\":{\"gridcolor\":\"white\",\"linecolor\":\"white\",\"ticks\":\"\"}},\"coloraxis\":{\"colorbar\":{\"outlinewidth\":0,\"ticks\":\"\"}},\"colorscale\":{\"sequential\":[[0.0,\"#0d0887\"],[0.1111111111111111,\"#46039f\"],[0.2222222222222222,\"#7201a8\"],[0.3333333333333333,\"#9c179e\"],[0.4444444444444444,\"#bd3786\"],[0.5555555555555556,\"#d8576b\"],[0.6666666666666666,\"#ed7953\"],[0.7777777777777778,\"#fb9f3a\"],[0.8888888888888888,\"#fdca26\"],[1.0,\"#f0f921\"]],\"sequentialminus\":[[0.0,\"#0d0887\"],[0.1111111111111111,\"#46039f\"],[0.2222222222222222,\"#7201a8\"],[0.3333333333333333,\"#9c179e\"],[0.4444444444444444,\"#bd3786\"],[0.5555555555555556,\"#d8576b\"],[0.6666666666666666,\"#ed7953\"],[0.7777777777777778,\"#fb9f3a\"],[0.8888888888888888,\"#fdca26\"],[1.0,\"#f0f921\"]],\"diverging\":[[0,\"#8e0152\"],[0.1,\"#c51b7d\"],[0.2,\"#de77ae\"],[0.3,\"#f1b6da\"],[0.4,\"#fde0ef\"],[0.5,\"#f7f7f7\"],[0.6,\"#e6f5d0\"],[0.7,\"#b8e186\"],[0.8,\"#7fbc41\"],[0.9,\"#4d9221\"],[1,\"#276419\"]]},\"xaxis\":{\"gridcolor\":\"white\",\"linecolor\":\"white\",\"ticks\":\"\",\"title\":{\"standoff\":15},\"zerolinecolor\":\"white\",\"automargin\":true,\"zerolinewidth\":2},\"yaxis\":{\"gridcolor\":\"white\",\"linecolor\":\"white\",\"ticks\":\"\",\"title\":{\"standoff\":15},\"zerolinecolor\":\"white\",\"automargin\":true,\"zerolinewidth\":2},\"scene\":{\"xaxis\":{\"backgroundcolor\":\"#E5ECF6\",\"gridcolor\":\"white\",\"linecolor\":\"white\",\"showbackground\":true,\"ticks\":\"\",\"zerolinecolor\":\"white\",\"gridwidth\":2},\"yaxis\":{\"backgroundcolor\":\"#E5ECF6\",\"gridcolor\":\"white\",\"linecolor\":\"white\",\"showbackground\":true,\"ticks\":\"\",\"zerolinecolor\":\"white\",\"gridwidth\":2},\"zaxis\":{\"backgroundcolor\":\"#E5ECF6\",\"gridcolor\":\"white\",\"linecolor\":\"white\",\"showbackground\":true,\"ticks\":\"\",\"zerolinecolor\":\"white\",\"gridwidth\":2}},\"shapedefaults\":{\"line\":{\"color\":\"#2a3f5f\"}},\"annotationdefaults\":{\"arrowcolor\":\"#2a3f5f\",\"arrowhead\":0,\"arrowwidth\":1},\"geo\":{\"bgcolor\":\"white\",\"landcolor\":\"#E5ECF6\",\"subunitcolor\":\"white\",\"showland\":true,\"showlakes\":true,\"lakecolor\":\"white\"},\"title\":{\"x\":0.05},\"mapbox\":{\"style\":\"light\"}}},\"title\":{\"text\":\"scatter plot of forecast vs point diff\"},\"xaxis\":{\"title\":{\"text\":\"forecast\"}},\"yaxis\":{\"title\":{\"text\":\"point diff\"}}},                        {\"responsive\": true}                    ).then(function(){\n",
       "                            \n",
       "var gd = document.getElementById('d034e105-f20c-4325-9429-17712de19f87');\n",
       "var x = new MutationObserver(function (mutations, observer) {{\n",
       "        var display = window.getComputedStyle(gd).display;\n",
       "        if (!display || display === 'none') {{\n",
       "            console.log([gd, 'removed!']);\n",
       "            Plotly.purge(gd);\n",
       "            observer.disconnect();\n",
       "        }}\n",
       "}});\n",
       "\n",
       "// Listen for the removal of the full notebook cells\n",
       "var notebookContainer = gd.closest('#notebook-container');\n",
       "if (notebookContainer) {{\n",
       "    x.observe(notebookContainer, {childList: true});\n",
       "}}\n",
       "\n",
       "// Listen for the clearing of the current output cell\n",
       "var outputEl = gd.closest('.output');\n",
       "if (outputEl) {{\n",
       "    x.observe(outputEl, {childList: true});\n",
       "}}\n",
       "\n",
       "                        })                };                });            </script>        </div>"
      ]
     },
     "metadata": {},
     "output_type": "display_data"
    }
   ],
   "source": [
    "import plotly.graph_objects as go\n",
    "\n",
    "#initialise\n",
    "fig = go.Figure()\n",
    "\n",
    "#adding the scatter\n",
    "fig.add_trace(go.Scatter(x = nba_2010.forecast, \n",
    "                        y = nba_2010.point_diff,\n",
    "                        mode = 'markers'))\n",
    "#add titles\n",
    "fig.update_layout(\n",
    "  title=\"scatter plot of forecast vs point diff\",\n",
    "  xaxis_title=\"forecast\",\n",
    "  yaxis_title=\"point diff\")\n",
    "\n",
    "fig.show()\n"
   ]
  }
 ],
 "metadata": {
  "kernelspec": {
   "display_name": "Python 3 (ipykernel)",
   "language": "python",
   "name": "python3"
  },
  "language_info": {
   "codemirror_mode": {
    "name": "ipython",
    "version": 3
   },
   "file_extension": ".py",
   "mimetype": "text/x-python",
   "name": "python",
   "nbconvert_exporter": "python",
   "pygments_lexer": "ipython3",
   "version": "3.9.13"
  }
 },
 "nbformat": 4,
 "nbformat_minor": 4
}
